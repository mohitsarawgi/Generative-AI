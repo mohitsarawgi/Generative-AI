{
 "cells": [
  {
   "cell_type": "markdown",
   "metadata": {},
   "source": [
    "# Stemming\n",
    "Is a process of reducing a word to its word stem that affixis to suffixes and prefixes to roots of words known as lemma."
   ]
  },
  {
   "cell_type": "code",
   "execution_count": 16,
   "metadata": {},
   "outputs": [],
   "source": [
    "# Classification Problem\n",
    "## Comments of product is a positive review or negative review\n",
    "## EG -> goes, gone, going -> GO"
   ]
  },
  {
   "cell_type": "code",
   "execution_count": 17,
   "metadata": {},
   "outputs": [],
   "source": [
    "words = [\"eating\", \"eats\", \"writing\", \"programming\", \"programs\", \"history\"]"
   ]
  },
  {
   "cell_type": "code",
   "execution_count": 18,
   "metadata": {},
   "outputs": [
    {
     "name": "stdout",
     "output_type": "stream",
     "text": [
      "eating--->eat\n",
      "eats--->eat\n",
      "writing--->write\n",
      "programming--->program\n",
      "programs--->program\n",
      "history--->histori\n"
     ]
    }
   ],
   "source": [
    "# Porter stemmer\n",
    "\n",
    "from nltk.stem import PorterStemmer\n",
    "Porterstem = PorterStemmer() # creates object\n",
    "\n",
    "for word in words:\n",
    "    print(word+\"--->\"+ Porterstem.stem(word))\n"
   ]
  },
  {
   "cell_type": "code",
   "execution_count": 19,
   "metadata": {},
   "outputs": [],
   "source": [
    "# Major disadvantage - words like history becomes \"histori\" , which has no meaning"
   ]
  },
  {
   "cell_type": "markdown",
   "metadata": {},
   "source": [
    "# Regexpstemmer class\n",
    "NLTK has regular expression stemmer class with the help of which we can easily implement regular Expression Stemmer algorithm. It basically takes a single regular expression and removes anyprefix or suffix that matches the expression."
   ]
  },
  {
   "cell_type": "code",
   "execution_count": 20,
   "metadata": {},
   "outputs": [
    {
     "name": "stdout",
     "output_type": "stream",
     "text": [
      "eat\n",
      "ingeat\n"
     ]
    }
   ],
   "source": [
    "from nltk.stem import RegexpStemmer\n",
    "reg_stemmer = RegexpStemmer('ing$|s$|e$|able$') # the $ indicates that all the words that ends with giving string will be removed\n",
    "print(reg_stemmer.stem('eating')) # ing removed\n",
    "print(reg_stemmer.stem('ingeat'))"
   ]
  },
  {
   "cell_type": "code",
   "execution_count": 21,
   "metadata": {},
   "outputs": [
    {
     "data": {
      "text/plain": [
       "'eat'"
      ]
     },
     "execution_count": 21,
     "metadata": {},
     "output_type": "execute_result"
    }
   ],
   "source": [
    "reg_stemmerr = RegexpStemmer('ing')\n",
    "reg_stemmerr.stem('ingeating') # if there is no doller then all the ing will be removed"
   ]
  },
  {
   "cell_type": "markdown",
   "metadata": {},
   "source": [
    "# Snowball Stemmer - performs better then porter stemmer"
   ]
  },
  {
   "cell_type": "code",
   "execution_count": 22,
   "metadata": {},
   "outputs": [
    {
     "name": "stdout",
     "output_type": "stream",
     "text": [
      "eating--->eat\n",
      "eats--->eat\n",
      "writing--->write\n",
      "programming--->program\n",
      "programs--->program\n",
      "history--->histori\n"
     ]
    }
   ],
   "source": [
    "from nltk.stem import SnowballStemmer\n",
    "snowballstem  = SnowballStemmer('english')\n",
    "\n",
    "for word in words:\n",
    "    print(word + '--->' + snowballstem.stem(word))"
   ]
  },
  {
   "cell_type": "code",
   "execution_count": 24,
   "metadata": {},
   "outputs": [
    {
     "name": "stdout",
     "output_type": "stream",
     "text": [
      "fairli sportingli\n",
      "fair sport\n"
     ]
    }
   ],
   "source": [
    "# Porter stem vs snowball stem\n",
    "\n",
    "print(Porterstem.stem(\"fairly\"), Porterstem.stem(\"sportingly\"))\n",
    "print(snowballstem.stem(\"fairly\"), snowballstem.stem(\"sportingly\"))"
   ]
  }
 ],
 "metadata": {
  "kernelspec": {
   "display_name": "virtual_env",
   "language": "python",
   "name": "python3"
  },
  "language_info": {
   "codemirror_mode": {
    "name": "ipython",
    "version": 3
   },
   "file_extension": ".py",
   "mimetype": "text/x-python",
   "name": "python",
   "nbconvert_exporter": "python",
   "pygments_lexer": "ipython3",
   "version": "3.10.12"
  }
 },
 "nbformat": 4,
 "nbformat_minor": 2
}
