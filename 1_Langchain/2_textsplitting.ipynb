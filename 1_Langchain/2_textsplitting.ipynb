{
 "cells": [
  {
   "cell_type": "markdown",
   "metadata": {},
   "source": [
    "# Text Splitting from Documents"
   ]
  },
  {
   "cell_type": "code",
   "execution_count": 1,
   "metadata": {},
   "outputs": [
    {
     "data": {
      "text/plain": [
       "[Document(metadata={'producer': 'PyFPDF 1.7.2 http://pyfpdf.googlecode.com/', 'creator': 'PyPDF', 'creationdate': 'D:20250414102918', 'source': 'Mohit_Sarawgi_Frontend_Cover_Letter.pdf', 'total_pages': 2, 'page': 0, 'page_label': '1'}, page_content=\"Mohit Sarawgi - Frontend Engineer Cover Letter\\nMohit Sarawgi\\nJabalpur, Madhya Pradesh\\nhttps://www.linkedin.com/in/mohitsarawgi07/\\nmohitsarawgi07@gmail.com\\nDate: April 14, 2025\\nSubject: Application for Frontend Engineer Role - Benchmark Team\\nDear Hiring Team,\\nI'm writing to express my interest in the Frontend Engineer position on your Benchmark team. As\\nsomeone who's deeply passionate about clean UI, strong design principles, and building tools that\\nactually make a difference, this role instantly stood out to me.\\nI recently completed my degree in Machine Learning and have been actively involved in building\\nfrontend projects where design meets performance. Most recently, I've worked on an AI-based\\nSaaS platform using Next.js, MongoDB, and OpenAI - with a special focus on reducing loading\\ntimes by 80% while delivering a highly interactive, customizable UI. Through this, I learned how\\nimportant a solid design system is for both designers and developers to move faster without\\ncompromising on quality.\\nWhile I have 0-2 years of formal experience, I've built, tested, and debugged multiple real-world\\nprojects, both independently and in teams. I'm highly comfortable working with JavaScript,\\nTypeScript, and Angular, and I also bring working knowledge of Web APIs, modern HTML/CSS, and\\nPage 1\"),\n",
       " Document(metadata={'producer': 'PyFPDF 1.7.2 http://pyfpdf.googlecode.com/', 'creator': 'PyPDF', 'creationdate': 'D:20250414102918', 'source': 'Mohit_Sarawgi_Frontend_Cover_Letter.pdf', 'total_pages': 2, 'page': 1, 'page_label': '2'}, page_content=\"Mohit Sarawgi - Frontend Engineer Cover Letter\\ntesting best practices. I care a lot about writing accessible, maintainable code, and I love\\ncollaborating with designers to make sure we're not just functional, but delightful.\\nWhat excites me about your Benchmark team is the intersection of engineering and design - I'd love\\nto contribute to a system that not only powers UI but also empowers teams to build with consistency,\\nspeed, and confidence. I believe my hands-on experience, attention to detail, and eagerness to\\nkeep learning make me a strong fit for this role.\\nThank you for considering my application. I'd love the opportunity to connect and share more about\\nhow I can contribute to your team. Looking forward to hearing from you!\\nWarm regards,\\nMohit Sarawgi\\nPage 2\")]"
      ]
     },
     "execution_count": 1,
     "metadata": {},
     "output_type": "execute_result"
    }
   ],
   "source": [
    "# Reading PDF fIle\n",
    "from langchain_community.document_loaders import PyPDFLoader\n",
    "loader = PyPDFLoader('Mohit_Sarawgi_Frontend_Cover_Letter.pdf')\n",
    "docs = loader.load()\n",
    "docs"
   ]
  },
  {
   "cell_type": "markdown",
   "metadata": {},
   "source": [
    "# How to recursively split text by charecters"
   ]
  },
  {
   "cell_type": "code",
   "execution_count": null,
   "metadata": {},
   "outputs": [],
   "source": []
  },
  {
   "cell_type": "code",
   "execution_count": null,
   "metadata": {},
   "outputs": [],
   "source": []
  },
  {
   "cell_type": "code",
   "execution_count": null,
   "metadata": {},
   "outputs": [],
   "source": []
  },
  {
   "cell_type": "code",
   "execution_count": null,
   "metadata": {},
   "outputs": [],
   "source": []
  }
 ],
 "metadata": {
  "kernelspec": {
   "display_name": "Python 3",
   "language": "python",
   "name": "python3"
  },
  "language_info": {
   "codemirror_mode": {
    "name": "ipython",
    "version": 3
   },
   "file_extension": ".py",
   "mimetype": "text/x-python",
   "name": "python",
   "nbconvert_exporter": "python",
   "pygments_lexer": "ipython3",
   "version": "3.10.0"
  }
 },
 "nbformat": 4,
 "nbformat_minor": 2
}
