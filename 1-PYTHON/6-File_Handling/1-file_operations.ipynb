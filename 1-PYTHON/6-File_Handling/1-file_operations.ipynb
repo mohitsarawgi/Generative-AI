{
 "cells": [
  {
   "cell_type": "markdown",
   "metadata": {},
   "source": [
    "## File Operations - Read and Write Files\n",
    "\n",
    "- File handling is a crusial part of programming. \n",
    "- Python Provides Built-in functions and methods tp read from and write to files, both text and binary."
   ]
  },
  {
   "cell_type": "code",
   "execution_count": 5,
   "metadata": {},
   "outputs": [
    {
     "name": "stdout",
     "output_type": "stream",
     "text": [
      "hey\n",
      "how \n",
      "are you\n"
     ]
    }
   ],
   "source": [
    "## To read a Whole File\n",
    "\n",
    "with open('example.txt', 'r') as file:\n",
    "    content = file.read()\n",
    "    print(content)"
   ]
  },
  {
   "cell_type": "code",
   "execution_count": 10,
   "metadata": {},
   "outputs": [
    {
     "name": "stdout",
     "output_type": "stream",
     "text": [
      "hey\n",
      "\n",
      "hey\n",
      "how \n",
      "\n",
      "how\n",
      "are you\n",
      "are you\n"
     ]
    }
   ],
   "source": [
    "## Read a file line by line\n",
    "\n",
    "with open('example.txt' , mode = 'r') as file:\n",
    "    for row in file:\n",
    "        print(row)\n",
    "        print(row.strip()) ## .strip() removes the newline charecter"
   ]
  },
  {
   "cell_type": "code",
   "execution_count": 12,
   "metadata": {},
   "outputs": [
    {
     "name": "stdout",
     "output_type": "stream",
     "text": [
      "Hello world\n"
     ]
    }
   ],
   "source": [
    "## Writing a file (overwriting)\n",
    "\n",
    "with open('example.txt', mode = 'w') as file:\n",
    "    file.write('Hello world')\n",
    "\n",
    "with open('example.txt', 'r') as file:\n",
    "    cont = file.read()\n",
    "    print(cont)"
   ]
  },
  {
   "cell_type": "code",
   "execution_count": 18,
   "metadata": {},
   "outputs": [
    {
     "name": "stdout",
     "output_type": "stream",
     "text": [
      "Hello world Append new lien Append new line\n"
     ]
    }
   ],
   "source": [
    "## Write a file without overwriting\n",
    "with open('example.txt', mode = 'a') as file: # mode = append\n",
    "    file.write(\" Append new line\")\n",
    "\n",
    "with open('example.txt', 'r') as file:\n",
    "    con = file.read()\n",
    "    print(con)"
   ]
  },
  {
   "cell_type": "code",
   "execution_count": 19,
   "metadata": {},
   "outputs": [],
   "source": [
    "## Writing a list of lines to a file\n",
    "lines = ['first line\\n' , 'second line\\n' , 'third line\\n']\n",
    "with open('example.txt' , mode = 'a') as file:\n",
    "    file.writelines(lines)"
   ]
  },
  {
   "cell_type": "code",
   "execution_count": 21,
   "metadata": {},
   "outputs": [],
   "source": [
    "# Copying a text file to destination file\n",
    "\n",
    "with open('example.txt' , 'r') as file:\n",
    "    content = file.read()\n",
    "\n",
    "with open('destination.txt' , 'w') as d_file:\n",
    "    d_file.write(content)"
   ]
  },
  {
   "cell_type": "code",
   "execution_count": 25,
   "metadata": {},
   "outputs": [
    {
     "name": "stdout",
     "output_type": "stream",
     "text": [
      "Lines:3, Words:13, char:77\n"
     ]
    }
   ],
   "source": [
    "# Read a text file a count the number of lines, words, and charecters\n",
    "\n",
    "def count_f(file_path):\n",
    "    with open('example.txt', 'r') as file:\n",
    "        lines = file.readlines()\n",
    "        line_count = len(lines)\n",
    "        word_count = sum(len(line.split()) for line in lines)\n",
    "        char_count = sum(len(line) for line in lines)\n",
    "\n",
    "    return line_count, word_count, char_count\n",
    "\n",
    "\n",
    "file_path = 'example.txt'\n",
    "lines, words, charecters = count_f(file_path)\n",
    "print(f'Lines:{lines}, Words:{words}, char:{charecters}')"
   ]
  },
  {
   "cell_type": "code",
   "execution_count": 29,
   "metadata": {},
   "outputs": [
    {
     "name": "stdout",
     "output_type": "stream",
     "text": [
      "helloeeee\n",
      "hahahahhaha \n",
      "\n"
     ]
    }
   ],
   "source": [
    "# Writing and then reading a file\n",
    "\n",
    "## w+ is used for both reading and writing, if the file does not exist, it will be created\n",
    "## if it exists its content will be overwritten\n",
    "\n",
    "with open('example.txt', 'w+') as file:\n",
    "    file.write(\"helloeeee\\n\")\n",
    "    file.write(\"hahahahhaha \\n\")\n",
    "\n",
    "    # to move the cursor to the beginning - if the cursor is not at the begging it will not display anything\n",
    "    # To make it read it have to be at the begging\n",
    "    file.seek(0)\n",
    "\n",
    "    # Read the content of a file\n",
    "    content = file.read()\n",
    "    print(content)"
   ]
  }
 ],
 "metadata": {
  "kernelspec": {
   "display_name": "virtual_env",
   "language": "python",
   "name": "python3"
  },
  "language_info": {
   "codemirror_mode": {
    "name": "ipython",
    "version": 3
   },
   "file_extension": ".py",
   "mimetype": "text/x-python",
   "name": "python",
   "nbconvert_exporter": "python",
   "pygments_lexer": "ipython3",
   "version": "3.10.12"
  }
 },
 "nbformat": 4,
 "nbformat_minor": 2
}
