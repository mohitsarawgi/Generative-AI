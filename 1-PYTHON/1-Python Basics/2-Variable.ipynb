{
 "cells": [
  {
   "cell_type": "markdown",
   "metadata": {},
   "source": [
    "# Declaring and Assinging Variable\n",
    "# Naming Conventions\n",
    "# Understanding Variables Types\n",
    "# Type Checking and conversion\n",
    "# Dynamic Typing\n",
    "# Practical Example and Common errors "
   ]
  },
  {
   "cell_type": "code",
   "execution_count": 5,
   "metadata": {},
   "outputs": [
    {
     "name": "stdout",
     "output_type": "stream",
     "text": [
      "<class 'int'>\n",
      "5.5 <class 'float'>\n",
      "mohit <class 'str'>\n",
      "True <class 'bool'>\n"
     ]
    }
   ],
   "source": [
    "a = 100\n",
    "print(type(a))\n",
    "\n",
    "height = 5.5\n",
    "name = \"mohit\"\n",
    "is_student = True\n",
    "\n",
    "print(height, type(height))\n",
    "print(name, type(name))\n",
    "print(is_student, type(is_student))"
   ]
  },
  {
   "cell_type": "markdown",
   "metadata": {},
   "source": [
    " Python is Dynamically Typed - Type of a variable is determined at run time\n"
   ]
  },
  {
   "cell_type": "code",
   "execution_count": 10,
   "metadata": {},
   "outputs": [
    {
     "name": "stdout",
     "output_type": "stream",
     "text": [
      "25 <class 'int'>\n",
      "25 <class 'str'>\n",
      "52 <class 'str'>\n",
      "52 <class 'int'>\n"
     ]
    }
   ],
   "source": [
    "# Type Conversion\n",
    "\n",
    "age = 25\n",
    "print(age, type(age)) # its a integer\n",
    "\n",
    "# to convert it in a string \n",
    "age_str = str(age)\n",
    "print(age_str, type(age_str))\n",
    "\n",
    "\n",
    "# To Conver it in a int\n",
    "\n",
    "age = '52'\n",
    "print(age, type(age))\n",
    "\n",
    "int_age = int(age)\n",
    "print(age , type(int_age))\n"
   ]
  },
  {
   "cell_type": "code",
   "execution_count": 12,
   "metadata": {},
   "outputs": [
    {
     "name": "stdout",
     "output_type": "stream",
     "text": [
      "<class 'float'>\n",
      "<class 'int'>\n"
     ]
    }
   ],
   "source": [
    "height = 5.11\n",
    "print(type(height))\n",
    "\n",
    "height_int = int(height)\n",
    "print(type(height_int))"
   ]
  },
  {
   "cell_type": "markdown",
   "metadata": {},
   "source": [
    "# Dynamic Typing - Python Allows the type of a variable to change as the program executes"
   ]
  },
  {
   "cell_type": "code",
   "execution_count": 14,
   "metadata": {},
   "outputs": [
    {
     "name": "stdout",
     "output_type": "stream",
     "text": [
      "10 <class 'int'>\n",
      "10.11 <class 'float'>\n",
      "haha <class 'str'>\n",
      "True <class 'bool'>\n"
     ]
    }
   ],
   "source": [
    "var = 10\n",
    "print(var, type(var))\n",
    "\n",
    "var = 10.11\n",
    "print(var, type(var))\n",
    "\n",
    "var = 'haha'\n",
    "print(var, type(var))\n",
    "\n",
    "var = True\n",
    "print(var, type(var))"
   ]
  },
  {
   "cell_type": "code",
   "execution_count": 15,
   "metadata": {},
   "outputs": [
    {
     "name": "stdout",
     "output_type": "stream",
     "text": [
      "mohit\n"
     ]
    }
   ],
   "source": [
    " # Input\n",
    "\n",
    "name = input(\"what is your name\")\n",
    "print(name)"
   ]
  }
 ],
 "metadata": {
  "kernelspec": {
   "display_name": "virtual_env",
   "language": "python",
   "name": "python3"
  },
  "language_info": {
   "codemirror_mode": {
    "name": "ipython",
    "version": 3
   },
   "file_extension": ".py",
   "mimetype": "text/x-python",
   "name": "python",
   "nbconvert_exporter": "python",
   "pygments_lexer": "ipython3",
   "version": "3.10.12"
  }
 },
 "nbformat": 4,
 "nbformat_minor": 2
}
