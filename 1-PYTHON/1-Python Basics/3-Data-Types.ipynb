{
 "cells": [
  {
   "cell_type": "markdown",
   "metadata": {},
   "source": [
    "# introduction to DataTypes, Importance\n",
    "# Basic - \n",
    "  1) int\n",
    "  2) Float\n",
    "  3) String\n",
    "  4) Bool"
   ]
  },
  {
   "cell_type": "code",
   "execution_count": null,
   "metadata": {
    "vscode": {
     "languageId": "plaintext"
    }
   },
   "outputs": [],
   "source": [
    "# jayada kuch important nhi hai isme.. :)"
   ]
  }
 ],
 "metadata": {
  "language_info": {
   "name": "python"
  }
 },
 "nbformat": 4,
 "nbformat_minor": 2
}
