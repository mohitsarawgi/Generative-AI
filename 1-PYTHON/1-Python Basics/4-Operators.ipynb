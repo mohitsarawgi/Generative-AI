{
 "cells": [
  {
   "cell_type": "code",
   "execution_count": 13,
   "metadata": {},
   "outputs": [
    {
     "name": "stdout",
     "output_type": "stream",
     "text": [
      "4\n",
      "4.5\n",
      "81\n",
      "1\n"
     ]
    }
   ],
   "source": [
    "a = 9\n",
    "b = 2\n",
    "\n",
    "print(a//b)\n",
    "print(a/b) # gives float values\n",
    "print(a**b) # a to the power of\n",
    "print(a%b) # modulus\n",
    "\n"
   ]
  },
  {
   "cell_type": "markdown",
   "metadata": {},
   "source": [
    "- Logical Operators"
   ]
  },
  {
   "cell_type": "code",
   "execution_count": 20,
   "metadata": {},
   "outputs": [
    {
     "name": "stdout",
     "output_type": "stream",
     "text": [
      "False\n",
      "True\n",
      "False\n"
     ]
    }
   ],
   "source": [
    "# and, not, OR\n",
    "\n",
    "x = True\n",
    "y = False\n",
    "\n",
    "print(x and y) # when both true\n",
    "print(x or y)  # when any true\n",
    "\n",
    "# Not = reverse\n",
    "print(not x)\n"
   ]
  }
 ],
 "metadata": {
  "kernelspec": {
   "display_name": "virtual_env",
   "language": "python",
   "name": "python3"
  },
  "language_info": {
   "codemirror_mode": {
    "name": "ipython",
    "version": 3
   },
   "file_extension": ".py",
   "mimetype": "text/x-python",
   "name": "python",
   "nbconvert_exporter": "python",
   "pygments_lexer": "ipython3",
   "version": "3.10.12"
  }
 },
 "nbformat": 4,
 "nbformat_minor": 2
}
