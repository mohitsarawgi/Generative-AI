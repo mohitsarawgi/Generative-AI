{
 "cells": [
  {
   "cell_type": "markdown",
   "metadata": {},
   "source": [
    "# Exception Handling\n",
    "\n",
    "e-h in python allows you to handle errors gracefully and take corrective actions without stopping the execution of the program.\n",
    "\n",
    "What are Exceptions?\n",
    "\n",
    "Exceptions are events that disputes the normal flow of a program.\n",
    "They occur when error is encountered during program execution. \n",
    "\n",
    "Some common execptions are - \n",
    "- ZeroDivisionError : dividing by zero\n",
    "- FileNotFoundError: File not found\n",
    "- ValueError: Invalid Value\n",
    "- TypeError: Invalid Type\n"
   ]
  },
  {
   "cell_type": "code",
   "execution_count": null,
   "metadata": {},
   "outputs": [
    {
     "name": "stdout",
     "output_type": "stream",
     "text": [
      "the variable has not been assigned\n"
     ]
    }
   ],
   "source": [
    "## Exception try, except block\n",
    "\n",
    "try:\n",
    "    a = b\n",
    "except:\n",
    "    print(\"the variable has not been assigned\")"
   ]
  },
  {
   "cell_type": "code",
   "execution_count": 3,
   "metadata": {},
   "outputs": [
    {
     "name": "stdout",
     "output_type": "stream",
     "text": [
      "division by zero\n"
     ]
    }
   ],
   "source": [
    "try:\n",
    "     1/0\n",
    "except ZeroDivisionError as ex: # can use class or directly can be written\n",
    "     print(ex)\n",
    "     "
   ]
  },
  {
   "cell_type": "code",
   "execution_count": 5,
   "metadata": {},
   "outputs": [
    {
     "name": "stdout",
     "output_type": "stream",
     "text": [
      "name 'b' is not defined\n"
     ]
    }
   ],
   "source": [
    "try:\n",
    "    result = 1/2\n",
    "    a=b\n",
    "except ZeroDivisionError as ex:\n",
    "    print(ex)\n",
    "except Exception as ex1:\n",
    "    print(ex1)"
   ]
  },
  {
   "cell_type": "code",
   "execution_count": 10,
   "metadata": {},
   "outputs": [
    {
     "name": "stdout",
     "output_type": "stream",
     "text": [
      "5.0\n",
      "execution completed\n"
     ]
    }
   ],
   "source": [
    "try:\n",
    "    num = int(input())\n",
    "    result = 10/num\n",
    "except ValueError:\n",
    "    print(\"enter valid number\")\n",
    "except ZeroDivisionError:\n",
    "    print(\"denominator should be greater then zero\")\n",
    "else:\n",
    "    print(result)\n",
    "finally:\n",
    "    print(\"execution completed\")"
   ]
  },
  {
   "cell_type": "code",
   "execution_count": 15,
   "metadata": {},
   "outputs": [
    {
     "name": "stdout",
     "output_type": "stream",
     "text": [
      "\n",
      "file close\n"
     ]
    }
   ],
   "source": [
    "# File Handling and exception Handling\n",
    "\n",
    "try:\n",
    "    file = open('example1.txt', 'r')\n",
    "    content = file.read()\n",
    "    print(content)\n",
    "except FileNotFoundError:\n",
    "    print(\"file not found\")\n",
    "finally:\n",
    "    if 'file' in locals() or not file.closed():\n",
    "        file.close()\n",
    "        print(\"file close\")\n"
   ]
  }
 ],
 "metadata": {
  "kernelspec": {
   "display_name": "virtual_env",
   "language": "python",
   "name": "python3"
  },
  "language_info": {
   "codemirror_mode": {
    "name": "ipython",
    "version": 3
   },
   "file_extension": ".py",
   "mimetype": "text/x-python",
   "name": "python",
   "nbconvert_exporter": "python",
   "pygments_lexer": "ipython3",
   "version": "3.10.12"
  }
 },
 "nbformat": 4,
 "nbformat_minor": 2
}
