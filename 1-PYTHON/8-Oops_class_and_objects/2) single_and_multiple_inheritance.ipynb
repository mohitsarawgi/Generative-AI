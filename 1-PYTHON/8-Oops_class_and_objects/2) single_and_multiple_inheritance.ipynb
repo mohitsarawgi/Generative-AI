{
 "cells": [
  {
   "cell_type": "markdown",
   "metadata": {},
   "source": [
    "# Inheritance in Python\n",
    "\n",
    "- Inheritance allows a class to inherit attributes and methods from another class"
   ]
  },
  {
   "cell_type": "code",
   "execution_count": 1,
   "metadata": {},
   "outputs": [],
   "source": [
    "# Parent Class\n",
    "\n",
    "class Car:\n",
    "    def __init__(self, windows, doors, enginetype):\n",
    "        self.windows = windows\n",
    "        self.doors = doors\n",
    "        self.enginetype = enginetype\n",
    "\n",
    "    def drive(self):\n",
    "        print(f\"The person will drive the {self.enginetype} car\")"
   ]
  },
  {
   "cell_type": "code",
   "execution_count": null,
   "metadata": {},
   "outputs": [
    {
     "name": "stdout",
     "output_type": "stream",
     "text": [
      "The person will drive the PETROL car\n"
     ]
    }
   ],
   "source": [
    "car1 = Car(4,5,\"PETROL\")\n",
    "car1.drive()"
   ]
  },
  {
   "cell_type": "code",
   "execution_count": null,
   "metadata": {},
   "outputs": [
    {
     "name": "stdout",
     "output_type": "stream",
     "text": [
      "tesla support selfdriving : True\n",
      "The person will drive the electric car\n"
     ]
    }
   ],
   "source": [
    "# Inherite car (single inheritance)\n",
    "\n",
    "class Tesla(Car):\n",
    "    def __init__(self, windows, doors, enginetype, is_selfdriving):\n",
    "        super().__init__(windows,doors,enginetype)   # calling the init from car (parent class)\n",
    "        self.is_selfdriving = is_selfdriving\n",
    "\n",
    "    def selfdriving(self):\n",
    "        print(f\"tesla support selfdriving : {self.is_selfdriving}\")\n",
    "\n",
    "tesla = Tesla(4,5,\"electric\", True)\n",
    "tesla.selfdriving()\n",
    "tesla.drive()"
   ]
  },
  {
   "cell_type": "code",
   "execution_count": 21,
   "metadata": {},
   "outputs": [
    {
     "name": "stdout",
     "output_type": "stream",
     "text": [
      "moon says woof\n",
      "Mohit\n"
     ]
    }
   ],
   "source": [
    "## Multiple Inheritance - when a class inherits from more that one base class\n",
    "\n",
    "#Base class 1\n",
    "class Animal:\n",
    "    def __init__(self, name):\n",
    "        self.name = name\n",
    "    \n",
    "    def speak(self):\n",
    "        print(\"subclass must implement this method\")\n",
    "\n",
    "# Base class 2\n",
    "class pet:\n",
    "    def __init__(self, owner):\n",
    "        self.owner = owner\n",
    "\n",
    "# Derived Class\n",
    "class Dog(Animal, pet):\n",
    "    def __init__(self,name,owner):\n",
    "        Animal.__init__(self,name)\n",
    "        pet.__init__(self,owner)\n",
    "\n",
    "    def speak(self):\n",
    "        return f\"{self.name} says woof\"\n",
    "    \n",
    "\n",
    "## Create an object\n",
    "\n",
    "Animal1 = Dog(\"moon\", \"Mohit\")\n",
    "print(Animal1.speak())\n",
    "print(Animal1.owner)\n"
   ]
  },
  {
   "cell_type": "code",
   "execution_count": 9,
   "metadata": {},
   "outputs": [
    {
     "name": "stdout",
     "output_type": "stream",
     "text": [
      "computer science cs\n",
      "None\n"
     ]
    }
   ],
   "source": [
    "## Inheritance\n",
    "\n",
    "class school:\n",
    "    def __init__(self, sub, teacher, rooms):\n",
    "        self.sub = sub\n",
    "        self.teacher = teacher\n",
    "        self.rooms = rooms\n",
    "\n",
    "    def subject(self, sub):\n",
    "        print(self.sub)\n",
    "\n",
    "class Student(school):\n",
    "    def __init__(self, sub, teacher, rooms):\n",
    "        super().__init__( sub, teacher, rooms)\n",
    "\n",
    "    def teach(self):\n",
    "        print(self.sub, self.teacher)\n",
    "\n",
    "\n",
    "stu = Student(\"computer science\", \"cs\", 45)\n",
    "print(stu.teach())\n",
    "\n"
   ]
  },
  {
   "cell_type": "code",
   "execution_count": null,
   "metadata": {},
   "outputs": [],
   "source": []
  }
 ],
 "metadata": {
  "kernelspec": {
   "display_name": "virtual_env",
   "language": "python",
   "name": "python3"
  },
  "language_info": {
   "codemirror_mode": {
    "name": "ipython",
    "version": 3
   },
   "file_extension": ".py",
   "mimetype": "text/x-python",
   "name": "python",
   "nbconvert_exporter": "python",
   "pygments_lexer": "ipython3",
   "version": "3.10.12"
  }
 },
 "nbformat": 4,
 "nbformat_minor": 2
}
