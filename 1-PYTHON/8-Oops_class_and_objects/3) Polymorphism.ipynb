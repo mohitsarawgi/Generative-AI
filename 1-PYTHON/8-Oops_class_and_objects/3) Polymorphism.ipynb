{
 "cells": [
  {
   "cell_type": "markdown",
   "metadata": {},
   "source": [
    "# Polymorphism \n",
    "\n",
    "- It allows objects of different classes to be treated as objects of a common superclass.\n",
    "- It provides a way to perform a single action in different forms.\n",
    "- It achieved through method overriding and interfaces"
   ]
  },
  {
   "cell_type": "markdown",
   "metadata": {},
   "source": [
    "Method overriding -> allows a child class to provide a specific impplementation of a method that is already defined in its parent class."
   ]
  },
  {
   "cell_type": "code",
   "execution_count": 3,
   "metadata": {},
   "outputs": [
    {
     "name": "stdout",
     "output_type": "stream",
     "text": [
      "woof\n",
      "meaw\n",
      "woof\n",
      "None\n"
     ]
    }
   ],
   "source": [
    "# Base Class\n",
    "class Animal:\n",
    "    def speak(self):\n",
    "        return \"sound of an animal\"\n",
    "\n",
    "# Derived Class 1\n",
    "class Dog(Animal):\n",
    "    def speak(self):\n",
    "        return \"woof\"\n",
    "\n",
    "# Derived Class 2\n",
    "class Cat(Animal):\n",
    "    def speak(self):\n",
    "        return \"meaw\"\n",
    "\n",
    "dog1 = Dog()\n",
    "cat1 = Cat()\n",
    "\n",
    "# Function that Demonstrate Polymorphism\n",
    "def animal_speak(animal):\n",
    "    print(animal.speak())\n",
    "\n",
    "print(dog1.speak())\n",
    "print(cat1.speak())\n",
    "print(animal_speak(dog1))"
   ]
  },
  {
   "cell_type": "code",
   "execution_count": 14,
   "metadata": {},
   "outputs": [
    {
     "name": "stdout",
     "output_type": "stream",
     "text": [
      "The ares is 20\n",
      "78.5\n"
     ]
    }
   ],
   "source": [
    "# Polymorphism with Functions and Methods\n",
    "\n",
    "# Base class\n",
    "class Shape:\n",
    "    def area(self):\n",
    "        return \"the area of the figure\"\n",
    "    \n",
    "# Derived class\n",
    "class Rectangle(Shape):\n",
    "    def __init__(self, width, length):\n",
    "        self.width = width\n",
    "        self.length = length\n",
    "\n",
    "    def area(self):\n",
    "        return self.width*self.length\n",
    "    \n",
    "# Derived class 2\n",
    "class circle(Shape):\n",
    "    def __init__(self, radius):\n",
    "        self.radius = radius\n",
    "\n",
    "    def area(self):\n",
    "        return 3.14*self.radius*self.radius\n",
    "    \n",
    "\n",
    "# function which derive polymorphism\n",
    "\n",
    "def print_area(shape):\n",
    "    print(f\"The ares is {shape.area()}\")\n",
    "\n",
    "rec = Rectangle(4,5)\n",
    "cir = circle(5)\n",
    "\n",
    "print_area(rec)\n",
    "print(cir.area())\n"
   ]
  },
  {
   "cell_type": "markdown",
   "metadata": {},
   "source": [
    "# Polymorphism with abstract base classes\n",
    "Abstract Base classes are used to define common method for a group of related objects.\n",
    "They can enforce that derived classes implement particular methods,\n",
    "promoting consistency across different implementations."
   ]
  },
  {
   "cell_type": "code",
   "execution_count": null,
   "metadata": {},
   "outputs": [],
   "source": []
  }
 ],
 "metadata": {
  "kernelspec": {
   "display_name": "virtual_env",
   "language": "python",
   "name": "python3"
  },
  "language_info": {
   "codemirror_mode": {
    "name": "ipython",
    "version": 3
   },
   "file_extension": ".py",
   "mimetype": "text/x-python",
   "name": "python",
   "nbconvert_exporter": "python",
   "pygments_lexer": "ipython3",
   "version": "3.10.12"
  }
 },
 "nbformat": 4,
 "nbformat_minor": 2
}
