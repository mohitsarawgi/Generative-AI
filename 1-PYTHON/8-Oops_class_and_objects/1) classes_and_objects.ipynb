{
 "cells": [
  {
   "cell_type": "markdown",
   "metadata": {},
   "source": [
    "## Classes and Objects\n",
    "\n",
    "- oops is a programming paradigm that uses \"objects to design applications and computer programs.\n",
    "- oops allows for modeling real-world scenarios using classes and objects.\n",
    "\n"
   ]
  },
  {
   "cell_type": "code",
   "execution_count": 4,
   "metadata": {},
   "outputs": [
    {
     "name": "stdout",
     "output_type": "stream",
     "text": [
      "<class '__main__.Car'>\n",
      "<__main__.Car object at 0x7b1f404796c0>\n",
      "4\n"
     ]
    }
   ],
   "source": [
    "# class is a blue print for creating objects. Attributes and methods\n",
    "\n",
    "# empty class\n",
    "class Car:\n",
    "    pass\n",
    "\n",
    "audi = Car()  # object\n",
    "bmw = Car()\n",
    "\n",
    "print(type(bmw))\n",
    "print(audi)\n",
    "\n",
    "audi.window = 4 # attributes inside car\n",
    "print(audi.window)\n"
   ]
  },
  {
   "cell_type": "code",
   "execution_count": 8,
   "metadata": {},
   "outputs": [
    {
     "name": "stdout",
     "output_type": "stream",
     "text": [
      "<__main__.dog object at 0x7b1f406e53c0>\n",
      "moon\n",
      "moon says woof\n"
     ]
    }
   ],
   "source": [
    "# Instance Variable and Methods\n",
    "\n",
    "class dog:\n",
    "\n",
    "    # constructor\n",
    "    def __init__(haha, name, age):\n",
    "        haha.name = name\n",
    "        haha.age = age                     # instance variable\n",
    "     \n",
    "    def bark(haha):                        # Instance Method            \n",
    "        print(f\"{haha.name} says woof\")\n",
    "\n",
    "\n",
    "\n",
    "\n",
    " # Create Object\n",
    "dog1 = dog(\"moon\" , 3)\n",
    "print(dog1)\n",
    "print(dog1.name)\n",
    "dog1.bark()\n"
   ]
  },
  {
   "cell_type": "code",
   "execution_count": 18,
   "metadata": {},
   "outputs": [
    {
     "name": "stdout",
     "output_type": "stream",
     "text": [
      "10000000\n",
      "new balance = 9980000\n",
      "None\n",
      "654221222 is deposited. new balance = 664201222\n",
      "None\n"
     ]
    }
   ],
   "source": [
    "# Modeling a Bank account\n",
    "\n",
    "class Bank:\n",
    "    def __init__(self, owner, balance = 0):\n",
    "        self.owner = owner\n",
    "        self.balance = balance\n",
    "\n",
    "    def deposite(self, amount):\n",
    "        self.balance += amount\n",
    "        print(f\"{amount} is deposited. new balance = {self.balance}\")\n",
    "\n",
    "    def withdraw(self, amount):\n",
    "        if amount>self.balance:\n",
    "            print(\"insufficient balance\")\n",
    "        else:\n",
    "            self.balance -= amount\n",
    "            print(f\"new balance = {self.balance}\")\n",
    "\n",
    "    def get_balance(self):\n",
    "        return self.balance\n",
    "\n",
    "\n",
    "\n",
    "account = Bank(\"Mohit\" , 10000000)\n",
    "print(account.balance)\n",
    "print(account.withdraw(20000))\n",
    "print(account.deposite(654221222))\n"
   ]
  }
 ],
 "metadata": {
  "kernelspec": {
   "display_name": "virtual_env",
   "language": "python",
   "name": "python3"
  },
  "language_info": {
   "codemirror_mode": {
    "name": "ipython",
    "version": 3
   },
   "file_extension": ".py",
   "mimetype": "text/x-python",
   "name": "python",
   "nbconvert_exporter": "python",
   "pygments_lexer": "ipython3",
   "version": "3.10.12"
  }
 },
 "nbformat": 4,
 "nbformat_minor": 2
}
