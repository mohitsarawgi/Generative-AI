{
 "cells": [
  {
   "cell_type": "markdown",
   "metadata": {},
   "source": [
    "# Operator Overloading \n",
    "- It allows you to define the behaviour of operators(+,*,-,/) for custom objects.\n",
    "- It can be achived this by overriding specific magic methods in your class"
   ]
  },
  {
   "cell_type": "code",
   "execution_count": null,
   "metadata": {},
   "outputs": [],
   "source": [
    "'''\n",
    "- Common operator overloading magic methods\n",
    "\n",
    "__add__(self, other)\n",
    "__sub__(self,other)\n",
    "__mul__(self,other)\n",
    "__truediv__(self,other)\n",
    "__eq__(self,other) - check if two objects are equal or not\n",
    "__lt__(self, other) - checks if one obj is less then other <\n",
    "\n",
    "'''"
   ]
  },
  {
   "cell_type": "code",
   "execution_count": 8,
   "metadata": {},
   "outputs": [
    {
     "name": "stdout",
     "output_type": "stream",
     "text": [
      "Vector(14, 14)\n",
      "Vector(-4, -2)\n",
      "Vector(15, 18)\n"
     ]
    }
   ],
   "source": [
    "# Modefying the entire functionality for vector addition on two objects\n",
    "\n",
    "class Vector:\n",
    "    def __init__(self, x , y):\n",
    "        self.x = x\n",
    "        self.y = y\n",
    "\n",
    "    def __add__(self, other):\n",
    "        return Vector(self.x + other.x, self.y + other.y)\n",
    "    \n",
    "    def __sub__(self, other):\n",
    "        return Vector(self.x - other.x, self.y - other.y)\n",
    "\n",
    "    def __mul__(self, other):\n",
    "        return Vector(self.x * other, self.y * other)\n",
    "\n",
    "    def __eq__(self, other):\n",
    "        return Vector(self.x == other.x and self.y == other.y)\n",
    "    \n",
    "    def __repr__(self):\n",
    "        return f\"Vector({self.x}, {self.y})\"\n",
    "    \n",
    "\n",
    "v1 = Vector(5,6)\n",
    "v2 = Vector(9,8)\n",
    "\n",
    "print(v1 + v2)\n",
    "print(v1 - v2)\n",
    "print(v1 * 3)"
   ]
  }
 ],
 "metadata": {
  "kernelspec": {
   "display_name": "virtual_env",
   "language": "python",
   "name": "python3"
  },
  "language_info": {
   "codemirror_mode": {
    "name": "ipython",
    "version": 3
   },
   "file_extension": ".py",
   "mimetype": "text/x-python",
   "name": "python",
   "nbconvert_exporter": "python",
   "pygments_lexer": "ipython3",
   "version": "3.10.12"
  }
 },
 "nbformat": 4,
 "nbformat_minor": 2
}
