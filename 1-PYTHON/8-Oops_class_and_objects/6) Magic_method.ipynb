{
 "cells": [
  {
   "cell_type": "markdown",
   "metadata": {},
   "source": [
    "# Magic Method\n",
    "- Also called dunder methods (double underscore methods), that start and ends with double underscores.\n",
    "- This methods enables you to define the behaviour of objects for built-in operations, such as arithmetic operations, comparisons and more "
   ]
  },
  {
   "cell_type": "markdown",
   "metadata": {},
   "source": [
    "Magic Methods\n",
    "\n",
    "- Are predefined methods in python that u can override to change the behaviour of objects.\n",
    "\n",
    "- Some Common methods include:\n",
    "1) init - initialize a new instance of a class.\n",
    "2) str - returns a string representation of an object.\n",
    "3) repr - Returns an official string representation of an object.\n",
    "4) len - returns the length of an object\n",
    "5) getitem - gets an item from container\n",
    "6) setitem - sets an item in a container\n"
   ]
  },
  {
   "cell_type": "code",
   "execution_count": 1,
   "metadata": {},
   "outputs": [
    {
     "name": "stdout",
     "output_type": "stream",
     "text": [
      "<__main__.Person object at 0x776a3c1dd540>\n"
     ]
    }
   ],
   "source": [
    "class Person:\n",
    "    def __init__(self,name,age):\n",
    "        self.name = name\n",
    "        self.age = age\n",
    "\n",
    "person1 = Person(\"mohit\", 23)\n",
    "print(person1)"
   ]
  },
  {
   "cell_type": "code",
   "execution_count": null,
   "metadata": {},
   "outputs": [
    {
     "name": "stdout",
     "output_type": "stream",
     "text": [
      "mohit, 23 years old\n"
     ]
    }
   ],
   "source": [
    "class Person:\n",
    "    def __init__(self,name,age):\n",
    "        self.name = name\n",
    "        self.age = age\n",
    "\n",
    "    def __str__(self):\n",
    "        return f\"{self.name}, {self.age} years old\"\n",
    "\n",
    "person1 = Person(\"mohit\", 23)\n",
    "print(person1)\n",
    "\n",
    "# see the difference in both cells output"
   ]
  }
 ],
 "metadata": {
  "kernelspec": {
   "display_name": "virtual_env",
   "language": "python",
   "name": "python3"
  },
  "language_info": {
   "codemirror_mode": {
    "name": "ipython",
    "version": 3
   },
   "file_extension": ".py",
   "mimetype": "text/x-python",
   "name": "python",
   "nbconvert_exporter": "python",
   "pygments_lexer": "ipython3",
   "version": "3.10.12"
  }
 },
 "nbformat": 4,
 "nbformat_minor": 2
}
