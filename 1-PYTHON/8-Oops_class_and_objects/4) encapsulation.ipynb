{
 "cells": [
  {
   "cell_type": "markdown",
   "metadata": {},
   "source": [
    "# Encapsulation \n",
    "Encapsulation is a concept of wrapping data(variables) and methods(functions) together as a single unit. It restricts direct access to some of the objects component, which is a means of preventing accidential interference and misuse of data."
   ]
  },
  {
   "cell_type": "code",
   "execution_count": 28,
   "metadata": {},
   "outputs": [
    {
     "name": "stdout",
     "output_type": "stream",
     "text": [
      "23\n",
      "55\n"
     ]
    }
   ],
   "source": [
    "# Public, Protected and Private Variables\n",
    "\n",
    "class Person:\n",
    "    def __init__(self, name, gender, age):\n",
    "        self.__name = name              # Private ->  variable cannot be accesed outside the class\n",
    "        self.gender = gender            # Public \n",
    "        self._age = age                 # Protected -> Can only be accessed through derived class\n",
    "        \n",
    "\n",
    "\n",
    "# Derived class\n",
    "class Employee(Person):\n",
    "    def __init__(self,name,age,gender):\n",
    "        super().__init__(name,age,gender)\n",
    "\n",
    "\n",
    "# create object\n",
    "person1 = Person(\"Mohit\", \"Male\", 23)\n",
    "print(person1._age)\n",
    "\n",
    "\n",
    "employee1 = Employee(\"haha\", \"male\", 55)\n",
    "print(employee1._age) # Protected variable accessed through derived class\n",
    "    "
   ]
  },
  {
   "cell_type": "markdown",
   "metadata": {},
   "source": [
    "- Abstract base class and methods"
   ]
  },
  {
   "cell_type": "code",
   "execution_count": 40,
   "metadata": {},
   "outputs": [
    {
     "name": "stdout",
     "output_type": "stream",
     "text": [
      "Luffy\n",
      "Age cannot be negative\n",
      "22\n"
     ]
    }
   ],
   "source": [
    "# Encapsulation with getter and setter Methods\n",
    "class Onepiece:\n",
    "    def __init__(self,name,age,gender):\n",
    "        self.__name = name\n",
    "        self.__age = age\n",
    "        self.__gender = gender\n",
    "\n",
    "    # Getter function to get name outside class\n",
    "    def get_name(self):\n",
    "        return self.__name\n",
    "\n",
    "    # Setter Function to change name\n",
    "    def set_name(self, name):\n",
    "        self.__name = name\n",
    "\n",
    "    # setter example\n",
    "    def set_age(self,age):\n",
    "        if age>0:\n",
    "            self.__age = age\n",
    "        else:\n",
    "            print(\"Age cannot be negative\")\n",
    "\n",
    "    def get_age(self):\n",
    "        return self.__age\n",
    "\n",
    "\n",
    "Member1 = Onepiece(\"Luffy\", 22, \"male\")\n",
    "print(Member1.get_name())\n",
    "\n",
    "Member1.set_age(-65)\n",
    "print(Member1.get_age())"
   ]
  }
 ],
 "metadata": {
  "kernelspec": {
   "display_name": "virtual_env",
   "language": "python",
   "name": "python3"
  },
  "language_info": {
   "codemirror_mode": {
    "name": "ipython",
    "version": 3
   },
   "file_extension": ".py",
   "mimetype": "text/x-python",
   "name": "python",
   "nbconvert_exporter": "python",
   "pygments_lexer": "ipython3",
   "version": "3.10.12"
  }
 },
 "nbformat": 4,
 "nbformat_minor": 2
}
