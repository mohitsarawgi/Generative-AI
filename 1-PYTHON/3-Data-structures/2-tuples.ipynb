{
 "cells": [
  {
   "cell_type": "markdown",
   "metadata": {},
   "source": [
    "#Tuples\n",
    "- Ordered collections of items that are immutable\n",
    "  They are similar to lists, but their immutability makes them different"
   ]
  },
  {
   "cell_type": "code",
   "execution_count": 2,
   "metadata": {},
   "outputs": [
    {
     "name": "stdout",
     "output_type": "stream",
     "text": [
      "()\n",
      "<class 'tuple'>\n"
     ]
    }
   ],
   "source": [
    "empty_tuple = ()\n",
    "print(empty_tuple)\n",
    "print(type(empty_tuple))"
   ]
  },
  {
   "cell_type": "code",
   "execution_count": 4,
   "metadata": {},
   "outputs": [
    {
     "name": "stdout",
     "output_type": "stream",
     "text": [
      "<class 'list'>\n",
      "<class 'tuple'>\n"
     ]
    }
   ],
   "source": [
    "lst = list() # list class inbuilt\n",
    "print(type(lst))\n",
    "\n",
    "tpl = tuple() # tuple class inbuilt\n",
    "print(type(tpl))"
   ]
  },
  {
   "cell_type": "markdown",
   "metadata": {},
   "source": [
    "## List can be converted to a tuple and tuple can be converted to a list"
   ]
  },
  {
   "cell_type": "code",
   "execution_count": 8,
   "metadata": {},
   "outputs": [
    {
     "name": "stdout",
     "output_type": "stream",
     "text": [
      "(1, 2, 3, 4, 5) <class 'tuple'>\n",
      "[1, 2, 3, 4, 5] <class 'list'>\n"
     ]
    }
   ],
   "source": [
    "number=tuple([1,2,3,4,5]) \n",
    "print(number, type(number))\n",
    "\n",
    "number2 = list((1,2,3,4,5))\n",
    "print(number2, type(number2))"
   ]
  },
  {
   "cell_type": "code",
   "execution_count": 9,
   "metadata": {},
   "outputs": [
    {
     "name": "stdout",
     "output_type": "stream",
     "text": [
      "('mohit', 123, True)\n"
     ]
    }
   ],
   "source": [
    "mixed_tuple = (\"mohit\" , 123, True)\n",
    "print(mixed_tuple)"
   ]
  },
  {
   "cell_type": "code",
   "execution_count": 10,
   "metadata": {},
   "outputs": [
    {
     "name": "stdout",
     "output_type": "stream",
     "text": [
      "True\n"
     ]
    }
   ],
   "source": [
    "#Accessing tuple elements\n",
    "print(mixed_tuple[2])"
   ]
  },
  {
   "cell_type": "code",
   "execution_count": 16,
   "metadata": {},
   "outputs": [
    {
     "name": "stdout",
     "output_type": "stream",
     "text": [
      "(1, 2, 3, 4, 5, 'mohit', 123, True)\n"
     ]
    }
   ],
   "source": [
    "# Operation in tuples\n",
    "\n",
    "#concatination\n",
    "con = number + mixed_tuple\n",
    "print(con)"
   ]
  },
  {
   "cell_type": "code",
   "execution_count": 19,
   "metadata": {},
   "outputs": [
    {
     "name": "stdout",
     "output_type": "stream",
     "text": [
      "(1, 1, 2, 3, 4, 4, 4, 5, 5, 5, 6, 8, 5, 4, 1, 1, 2)\n",
      "4\n",
      "7\n"
     ]
    }
   ],
   "source": [
    "# Tuples Methods\n",
    "\n",
    "number3 = (1,1,2,3,4,4,4,5,5,5,6,8,5,4,1,1,2)\n",
    "print(number3)\n",
    "\n",
    "# To count the freq of elment\n",
    "print(number3.count(1))\n",
    "\n",
    "#At which index number is present\n",
    "print(number3.index(5))"
   ]
  },
  {
   "cell_type": "code",
   "execution_count": 23,
   "metadata": {},
   "outputs": [
    {
     "name": "stdout",
     "output_type": "stream",
     "text": [
      "(1, True, 'mohit')\n",
      "1 True mohit\n",
      "1 [2, 3, 4, 5, 6] 7\n",
      "<class 'list'>\n"
     ]
    }
   ],
   "source": [
    "#Packing and unpacking tuple\n",
    "\n",
    "#packed \n",
    "packed_tuple = 1,True, \"mohit\" #this will pack the elements in tuple only\n",
    "print(packed_tuple)\n",
    "\n",
    "#unpacking\n",
    "a,b,c = packed_tuple #put the elements in independent variable to unpack\n",
    "print(a,b,c)\n",
    "\n",
    "#unpacking with *\n",
    "unpacking = (1,2,3,4,5,6,7)\n",
    "first, *middle, last = unpacking\n",
    "print(first, middle, last) #middle will create a list and store all elements\n",
    "print(type(middle))"
   ]
  }
 ],
 "metadata": {
  "kernelspec": {
   "display_name": "virtual_env",
   "language": "python",
   "name": "python3"
  },
  "language_info": {
   "codemirror_mode": {
    "name": "ipython",
    "version": 3
   },
   "file_extension": ".py",
   "mimetype": "text/x-python",
   "name": "python",
   "nbconvert_exporter": "python",
   "pygments_lexer": "ipython3",
   "version": "3.10.12"
  }
 },
 "nbformat": 4,
 "nbformat_minor": 2
}
