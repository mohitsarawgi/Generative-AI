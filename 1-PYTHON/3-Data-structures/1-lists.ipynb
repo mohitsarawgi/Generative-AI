{
 "cells": [
  {
   "cell_type": "markdown",
   "metadata": {},
   "source": [
    "# Introduction\n",
    "\n",
    "- Lists are oedered, mutable collections of items\n",
    "- They can contain items of different data types"
   ]
  },
  {
   "cell_type": "code",
   "execution_count": 49,
   "metadata": {},
   "outputs": [
    {
     "data": {
      "text/plain": [
       "list"
      ]
     },
     "execution_count": 49,
     "metadata": {},
     "output_type": "execute_result"
    }
   ],
   "source": [
    "list = []\n",
    "type(list)\n"
   ]
  },
  {
   "cell_type": "code",
   "execution_count": 50,
   "metadata": {},
   "outputs": [
    {
     "name": "stdout",
     "output_type": "stream",
     "text": [
      "['mohit', 2106, 'sarawgi', True]\n"
     ]
    }
   ],
   "source": [
    "list1 = ['mohit' , 2106, \"sarawgi\", True]\n",
    "print(list1)"
   ]
  },
  {
   "cell_type": "code",
   "execution_count": 51,
   "metadata": {},
   "outputs": [
    {
     "name": "stdout",
     "output_type": "stream",
     "text": [
      "0\n",
      "1\n",
      "2\n",
      "3\n",
      "4\n",
      "5\n"
     ]
    }
   ],
   "source": [
    "# Accessing list elements\n",
    "\n",
    "name = [0,1,2,3,4,5]\n",
    "for i in name:\n",
    "    print(i)"
   ]
  },
  {
   "cell_type": "code",
   "execution_count": 52,
   "metadata": {},
   "outputs": [
    {
     "name": "stdout",
     "output_type": "stream",
     "text": [
      "0\n",
      "1\n",
      "2\n",
      "3\n",
      "4\n",
      "5\n"
     ]
    }
   ],
   "source": [
    "for i in range(len(name)):\n",
    "    print(i)"
   ]
  },
  {
   "cell_type": "code",
   "execution_count": 53,
   "metadata": {},
   "outputs": [
    {
     "name": "stdout",
     "output_type": "stream",
     "text": [
      "0\n",
      "1\n",
      "2\n",
      "3\n",
      "4\n",
      "5\n",
      "6\n"
     ]
    }
   ],
   "source": [
    "i = 0\n",
    "while i<=len(name):\n",
    "    print(i)\n",
    "    i = i+1"
   ]
  },
  {
   "cell_type": "code",
   "execution_count": 54,
   "metadata": {},
   "outputs": [
    {
     "name": "stdout",
     "output_type": "stream",
     "text": [
      "[2, 3]\n"
     ]
    }
   ],
   "source": [
    "\n",
    "print(name[2:4]) # 4th index will not be picked"
   ]
  },
  {
   "cell_type": "code",
   "execution_count": 55,
   "metadata": {},
   "outputs": [
    {
     "name": "stdout",
     "output_type": "stream",
     "text": [
      "5\n"
     ]
    }
   ],
   "source": [
    "print(name[-1]) # last index"
   ]
  },
  {
   "cell_type": "code",
   "execution_count": 56,
   "metadata": {},
   "outputs": [
    {
     "name": "stdout",
     "output_type": "stream",
     "text": [
      "['kiwi', 'orange', 'apple', 'banana', 'watermelon']\n",
      "['kiwi', 'orange', 'strawberry', 'apple', 'banana', 'watermelon']\n",
      "['kiwi', 'orange', 'strawberry', 'apple', 'watermelon']\n",
      "['kiwi', 'orange', 'strawberry', 'apple']\n",
      "3\n",
      "3\n",
      "['apple', 'banana', 'banana', 'banana', 'kiwi', 'orange', 'strawberry']\n",
      "['strawberry', 'orange', 'kiwi', 'banana', 'banana', 'banana', 'apple']\n",
      "None\n"
     ]
    }
   ],
   "source": [
    "# List Methods\n",
    "\n",
    "fruits = [\"kiwi\", \"orange\", \"apple\", \"banana\"]\n",
    "\n",
    "# add item to a list at the end\n",
    "fruits.append(\"watermelon\")\n",
    "print(fruits)\n",
    "\n",
    "# insert item in between list\n",
    "fruits.insert(2, \"strawberry\") # (index at which want to insert, name of item)\n",
    "print(fruits)\n",
    "\n",
    "# remove item from list\n",
    "fruits.remove(\"banana\") # it removes the first occurance of an element\n",
    "print(fruits)\n",
    "\n",
    "# remove the last element \n",
    "fruits.pop()\n",
    "print(fruits)\n",
    "\n",
    "# To find the index of an item\n",
    "index = fruits.index(\"apple\")\n",
    "print(index)\n",
    "\n",
    "# To find the count of frequency of an element\n",
    "fruits.insert(1 , \"banana\")\n",
    "fruits.append(\"banana\")\n",
    "fruits.insert(4 , \"banana\")\n",
    "\n",
    "print(fruits.count(\"banana\"))\n",
    "\n",
    "\n",
    "# to sort the list\n",
    "fruits.sort()\n",
    "print(fruits) # in accending order\n",
    "\n",
    "# reverse the list\n",
    "fruits.reverse()\n",
    "print(fruits)\n",
    "\n",
    "# To remove all items \n",
    "print(fruits.clear())"
   ]
  },
  {
   "cell_type": "code",
   "execution_count": 71,
   "metadata": {},
   "outputs": [
    {
     "name": "stdout",
     "output_type": "stream",
     "text": [
      "[2, 3, 4]\n",
      "[0, 1, 2, 3, 4]\n",
      "[5, 6, 7, 8, 9]\n",
      "[0, 2, 4, 6, 8]\n",
      "[9, 8, 7, 6, 5, 4, 3, 2, 1, 0]\n"
     ]
    }
   ],
   "source": [
    "# Slicing Lists\n",
    "\n",
    "numbers = [0,1,2,3,4,5,6,7,8,9]\n",
    "print(numbers[2:5])\n",
    "print(numbers[:5])\n",
    "print(numbers[5:])\n",
    "print(numbers[::2])\n",
    "print(numbers[::-1])"
   ]
  },
  {
   "cell_type": "code",
   "execution_count": null,
   "metadata": {},
   "outputs": [
    {
     "name": "stdout",
     "output_type": "stream",
     "text": [
      "0 0\n",
      "1 1\n",
      "2 2\n",
      "3 3\n",
      "4 4\n",
      "5 5\n",
      "6 6\n",
      "7 7\n",
      "8 8\n",
      "9 9\n"
     ]
    }
   ],
   "source": [
    "# Iteration With Index\n",
    "\n",
    "for index,numbers in enumerate(numbers):\n",
    "    print(index,numbers) # enumerate provides index for each items"
   ]
  },
  {
   "cell_type": "markdown",
   "metadata": {},
   "source": [
    "# List Comprehension\n",
    "\n",
    "- Basic Syntax= [^expression ^for items in iterable]\n",
    "- with condition logic= [^expression ^for item in iterable ^if condition]\n",
    "- nested list comp=[^expression ^for item in it1 ^for item in it2]"
   ]
  },
  {
   "cell_type": "code",
   "execution_count": null,
   "metadata": {},
   "outputs": [
    {
     "name": "stdout",
     "output_type": "stream",
     "text": [
      "[0, 1, 4, 9, 16, 25, 36, 49, 64, 81]\n"
     ]
    },
    {
     "data": {
      "text/plain": [
       "[0, 1, 4, 9, 16, 25, 36, 49, 64, 81]"
      ]
     },
     "execution_count": 79,
     "metadata": {},
     "output_type": "execute_result"
    }
   ],
   "source": [
    "\n",
    "lst = []\n",
    "for x in range(10):\n",
    "    lst.append(x**2)\n",
    "print(lst)\n",
    "\n",
    "\n",
    "\n",
    "# Basic syntax\n",
    "[x**2 for x in range(10)]"
   ]
  },
  {
   "cell_type": "code",
   "execution_count": null,
   "metadata": {},
   "outputs": [
    {
     "name": "stdout",
     "output_type": "stream",
     "text": [
      "[0, 2, 4, 6, 8]\n"
     ]
    },
    {
     "data": {
      "text/plain": [
       "[0, 2, 4, 6, 8]"
      ]
     },
     "execution_count": 78,
     "metadata": {},
     "output_type": "execute_result"
    }
   ],
   "source": [
    "\n",
    "lst1 = []\n",
    "for i in range(10):\n",
    "    if i%2 == 0:\n",
    "        lst1.append(i)\n",
    "print(lst1)\n",
    "\n",
    "\n",
    "# List comprehension with condition\n",
    "\n",
    "[x for x in range(10) if x%2==0] # single line"
   ]
  },
  {
   "cell_type": "code",
   "execution_count": 81,
   "metadata": {},
   "outputs": [
    {
     "name": "stdout",
     "output_type": "stream",
     "text": [
      "[[1, 'a'], [1, 'b'], [1, 'c'], [1, 'd'], [2, 'a'], [2, 'b'], [2, 'c'], [2, 'd'], [3, 'a'], [3, 'b'], [3, 'c'], [3, 'd'], [4, 'a'], [4, 'b'], [4, 'c'], [4, 'd']]\n"
     ]
    }
   ],
   "source": [
    "# Nested Comprehence\n",
    "\n",
    "lst1 = [1,2,3,4]\n",
    "lst2 = ['a','b','c','d']\n",
    "\n",
    "# make pair list\n",
    "\n",
    "pair = [[i,j] for i in lst1 for j in lst2] #[i, j] to make list pair\n",
    "print(pair)"
   ]
  }
 ],
 "metadata": {
  "kernelspec": {
   "display_name": "virtual_env",
   "language": "python",
   "name": "python3"
  },
  "language_info": {
   "codemirror_mode": {
    "name": "ipython",
    "version": 3
   },
   "file_extension": ".py",
   "mimetype": "text/x-python",
   "name": "python",
   "nbconvert_exporter": "python",
   "pygments_lexer": "ipython3",
   "version": "3.10.12"
  }
 },
 "nbformat": 4,
 "nbformat_minor": 2
}
