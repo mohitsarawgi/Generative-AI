{
 "cells": [
  {
   "cell_type": "markdown",
   "metadata": {},
   "source": [
    "# Dictionary - \n",
    "\n",
    "- unordered collection of items.\n",
    "- They store data in key-value pairs.\n",
    "- Keys must be unique and immutable.\n",
    "- Values can be of any type"
   ]
  },
  {
   "cell_type": "code",
   "execution_count": 22,
   "metadata": {},
   "outputs": [
    {
     "name": "stdout",
     "output_type": "stream",
     "text": [
      "<class 'dict'>\n",
      "{} <class 'dict'>\n"
     ]
    }
   ],
   "source": [
    "# Creating Dictionary\n",
    "\n",
    "empty_dict = {}\n",
    "print(type(empty_dict))\n",
    "\n",
    "# Inbuilt\n",
    "empty_dict = dict()\n",
    "print(empty_dict, type(empty_dict))"
   ]
  },
  {
   "cell_type": "code",
   "execution_count": 23,
   "metadata": {},
   "outputs": [
    {
     "name": "stdout",
     "output_type": "stream",
     "text": [
      "{'name': 'moh', 'age': 23, 'height': 6, 'salary': 1000000}\n"
     ]
    }
   ],
   "source": [
    "name = input()\n",
    "age = int(input())\n",
    "height = int(input())\n",
    "salary = int(input())\n",
    "student = {\"name\":name, \"age\":age, \"height\":height, \"salary\":salary}\n",
    "print(student)"
   ]
  },
  {
   "cell_type": "code",
   "execution_count": 24,
   "metadata": {},
   "outputs": [
    {
     "name": "stdout",
     "output_type": "stream",
     "text": [
      "{'name': 'haha', 'age': 25}\n"
     ]
    }
   ],
   "source": [
    "# error - single key is always used\n",
    "students = {\"name\":\"mohit\", \"name\":\"haha\", \"age\":25}\n",
    "print(students) # name gets overwritten"
   ]
  },
  {
   "cell_type": "code",
   "execution_count": 25,
   "metadata": {},
   "outputs": [
    {
     "name": "stdout",
     "output_type": "stream",
     "text": [
      "23\n",
      "1000000\n"
     ]
    }
   ],
   "source": [
    "#Accessing element\n",
    "print(student[\"age\"])\n",
    "\n",
    "#Accessing using get() method\n",
    "print(student.get(\"salary\"))"
   ]
  },
  {
   "cell_type": "code",
   "execution_count": 34,
   "metadata": {},
   "outputs": [
    {
     "name": "stdout",
     "output_type": "stream",
     "text": [
      "{'name': 'moh', 'height': 6, 'salary': 1000000, 'address': 'india', 'age': 23}\n"
     ]
    }
   ],
   "source": [
    "#Adding element\n",
    "\n",
    "student[\"age\"] = 23\n",
    "student[\"address\"]= \"india\"\n",
    "print(student)"
   ]
  },
  {
   "cell_type": "code",
   "execution_count": 35,
   "metadata": {},
   "outputs": [
    {
     "name": "stdout",
     "output_type": "stream",
     "text": [
      "{'name': 'moh', 'height': 6, 'salary': 1000000, 'address': 'india'}\n"
     ]
    }
   ],
   "source": [
    "# Deleting specific key-value\n",
    "\n",
    "del student['age']\n",
    "print(student)"
   ]
  },
  {
   "cell_type": "code",
   "execution_count": 39,
   "metadata": {},
   "outputs": [
    {
     "name": "stdout",
     "output_type": "stream",
     "text": [
      "dict_keys(['name', 'height', 'salary', 'address'])\n",
      "dict_values(['moh', 6, 1000000, 'india'])\n",
      "dict_items([('name', 'moh'), ('height', 6), ('salary', 1000000), ('address', 'india')])\n"
     ]
    }
   ],
   "source": [
    "# Dictionary Methods\n",
    "\n",
    "# To get all the keys\n",
    "keys = student.keys()\n",
    "print(keys)\n",
    "\n",
    "# To get all the Values\n",
    "values = student.values()\n",
    "print(values)\n",
    "\n",
    "# To get all key-value pairs\n",
    "items = student.items()\n",
    "print(items)"
   ]
  },
  {
   "cell_type": "code",
   "execution_count": 41,
   "metadata": {},
   "outputs": [
    {
     "name": "stdout",
     "output_type": "stream",
     "text": [
      "{'name': 'moh', 'height': 7, 'salary': 1000000, 'address': 'india'}\n",
      "{'name': 'moh', 'height': 7, 'salary': 1000000, 'address': 'india'}\n"
     ]
    }
   ],
   "source": [
    "# Copying the element\n",
    "\n",
    "stu = student\n",
    "\n",
    "# Changing name in original\n",
    "student[\"height\"] = 7\n",
    "\n",
    "print(student)\n",
    "print(stu) # while changing the height in original, copy stu height also got changed\n",
    "\n",
    "# This is a big Problem\n",
    "\n",
    "# To correct this we uses SHALLOW COPY"
   ]
  },
  {
   "cell_type": "code",
   "execution_count": 46,
   "metadata": {},
   "outputs": [
    {
     "name": "stdout",
     "output_type": "stream",
     "text": [
      "{'name': 'mohit', 'height': 7, 'salary': 1000000, 'address': 'india'}\n",
      "{'name': 'mohit_sarawgi', 'height': 7, 'salary': 1000000, 'address': 'india'}\n"
     ]
    }
   ],
   "source": [
    "stu1 = student.copy() # shallow copy - provides a different memory location\n",
    "\n",
    "student[\"name\"] = \"mohit\"\n",
    "print(student)\n",
    "print(stu1) # name does not change, .copy() is responsible for shallow copy"
   ]
  },
  {
   "cell_type": "code",
   "execution_count": 55,
   "metadata": {},
   "outputs": [
    {
     "name": "stdout",
     "output_type": "stream",
     "text": [
      "name:mohit\n",
      "height:7\n",
      "salary:1000000\n",
      "address:india\n",
      "\n",
      "name\n",
      "height\n",
      "salary\n",
      "address\n",
      "\n",
      "mohit\n",
      "7\n",
      "1000000\n",
      "india\n"
     ]
    }
   ],
   "source": [
    "# Iterating over key-value\n",
    "for key,value in student.items():\n",
    "    print(f\"{key}:{value}\")\n",
    "\n",
    "print()\n",
    "\n",
    "# Iterating Over Key\n",
    "for key in student.keys():\n",
    "    print(key)\n",
    "\n",
    "print()\n",
    "# Iterating Over Values\n",
    "for value in student.values():\n",
    "    print(value)"
   ]
  },
  {
   "cell_type": "code",
   "execution_count": null,
   "metadata": {},
   "outputs": [
    {
     "name": "stdout",
     "output_type": "stream",
     "text": [
      "{'human1': {'name': 'mohit', 'age': 24, 'height': 6}, 'human2': {'name': 'Parth', 'age': 23, 'height': 7}}\n"
     ]
    }
   ],
   "source": [
    "# Nested Dictionary\n",
    "\n",
    "human = {\n",
    "    \"human1\":{\"name\":\"mohit\", \"age\":24, \"height\":6},\n",
    "    \"human2\":{\"name\":\"Parth\", \"age\":23, \"height\":7}\n",
    "}\n",
    "\n",
    "# This kind of data is stored in no-sql, mongodb\n",
    "\n",
    "print(human)"
   ]
  },
  {
   "cell_type": "code",
   "execution_count": null,
   "metadata": {},
   "outputs": [
    {
     "name": "stdout",
     "output_type": "stream",
     "text": [
      "23\n"
     ]
    }
   ],
   "source": [
    "# Accessing Nested Dictionary\n",
    "\n",
    "print(human[\"human2\"][\"age\"])"
   ]
  },
  {
   "cell_type": "code",
   "execution_count": 58,
   "metadata": {},
   "outputs": [
    {
     "name": "stdout",
     "output_type": "stream",
     "text": [
      "human1, {'name': 'mohit', 'age': 24, 'height': 6}\n",
      "name:mohit\n",
      "age:24\n",
      "height:6\n",
      "human2, {'name': 'Parth', 'age': 23, 'height': 7}\n",
      "name:Parth\n",
      "age:23\n",
      "height:7\n"
     ]
    }
   ],
   "source": [
    "# Iterating Over Nested Dictionary\n",
    "\n",
    "for human_id, human_info in human.items():\n",
    "    print(f\"{human_id}, {human_info}\")\n",
    "    for key, value in human_info.items():\n",
    "         print(f\"{key}:{value}\")"
   ]
  },
  {
   "cell_type": "code",
   "execution_count": 61,
   "metadata": {},
   "outputs": [
    {
     "name": "stdout",
     "output_type": "stream",
     "text": [
      "{0: 0, 1: 1, 2: 4, 3: 9, 4: 16}\n",
      "{0: 0, 2: 4, 4: 16, 6: 36, 8: 64}\n"
     ]
    }
   ],
   "source": [
    "# Dictionary Comprehension\n",
    "\n",
    "squares = {x:x**2 for x in range(5)}\n",
    "print(squares)\n",
    "\n",
    "# Finding squares of only even number\n",
    "\n",
    "sq = {y:y**2 for y in range(10) if y%2==0}\n",
    "print(sq)"
   ]
  },
  {
   "cell_type": "code",
   "execution_count": 62,
   "metadata": {},
   "outputs": [
    {
     "name": "stdout",
     "output_type": "stream",
     "text": [
      "{1: 2, 2: 4, 3: 4, 4: 1, 5: 1, 6: 1}\n"
     ]
    }
   ],
   "source": [
    "# To count the frequency of elements in list\n",
    "\n",
    "numbers = [1,2,2,3,3,4,1,5,2,2,6,3,3]\n",
    "frequency = {}\n",
    "\n",
    "for number in numbers:\n",
    "    if number in frequency:\n",
    "        frequency[number] += 1\n",
    "    else:\n",
    "        frequency[number] = 1\n",
    "\n",
    "print(frequency)"
   ]
  },
  {
   "cell_type": "code",
   "execution_count": 63,
   "metadata": {},
   "outputs": [
    {
     "name": "stdout",
     "output_type": "stream",
     "text": [
      "{'a': 1, 'b': 2, 'c': 3, 'd': 4}\n"
     ]
    }
   ],
   "source": [
    "# Merge 2 dictionary into 1\n",
    "\n",
    "dict1 = {\"a\":1, \"b\":2}\n",
    "dict2 = {\"c\":3, \"d\":4}\n",
    "\n",
    "merge = {**dict1, **dict2}\n",
    "print(merge)"
   ]
  },
  {
   "cell_type": "code",
   "execution_count": null,
   "metadata": {},
   "outputs": [],
   "source": []
  }
 ],
 "metadata": {
  "kernelspec": {
   "display_name": "virtual_env",
   "language": "python",
   "name": "python3"
  },
  "language_info": {
   "codemirror_mode": {
    "name": "ipython",
    "version": 3
   },
   "file_extension": ".py",
   "mimetype": "text/x-python",
   "name": "python",
   "nbconvert_exporter": "python",
   "pygments_lexer": "ipython3",
   "version": "3.10.12"
  }
 },
 "nbformat": 4,
 "nbformat_minor": 2
}
