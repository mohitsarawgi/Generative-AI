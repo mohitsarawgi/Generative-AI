{
 "cells": [
  {
   "cell_type": "code",
   "execution_count": null,
   "metadata": {},
   "outputs": [
    {
     "name": "stdout",
     "output_type": "stream",
     "text": [
      "1\n",
      "2\n",
      "3\n",
      "4\n",
      "haha\n",
      "True\n",
      "1.2\n"
     ]
    }
   ],
   "source": [
    "# Positional Arguments\n",
    "\n",
    "def print_num(*num): # *num\n",
    "    for number in num:\n",
    "        print(number)\n",
    "\n",
    "print_num(1,2,3,4,\"haha\", True, 1.20)"
   ]
  },
  {
   "cell_type": "code",
   "execution_count": null,
   "metadata": {},
   "outputs": [
    {
     "name": "stdout",
     "output_type": "stream",
     "text": [
      "Name:mohit\n",
      "age:23\n",
      "country:India\n"
     ]
    }
   ],
   "source": [
    "# Keywords Arguments\n",
    "\n",
    "def print_details(**keywords):   # **keywords\n",
    "    for key,value in keywords.items():\n",
    "        print(f\"{key}:{value}\")\n",
    "\n",
    "\n",
    "print_details(Name = \"mohit\", age = \"23\", country = \"India\")"
   ]
  },
  {
   "cell_type": "code",
   "execution_count": 5,
   "metadata": {},
   "outputs": [
    {
     "name": "stdout",
     "output_type": "stream",
     "text": [
      "positional - 1\n",
      "positional - 2\n",
      "positional - 3\n",
      "positional - 4\n",
      "positional - 5\n",
      "keyword - name : mohit\n",
      "keyword - age : 23\n",
      "keyword - country : India\n"
     ]
    }
   ],
   "source": [
    "# Using  Positional and Keyword in same function\n",
    "\n",
    "def print_both(*num, **keyword):\n",
    "    for val in num:\n",
    "        print(f\"positional - {val}\")\n",
    "    \n",
    "    for key,value in keyword.items():\n",
    "        print(f\"keyword - {key} : {value}\")\n",
    "\n",
    "\n",
    "print_both(1,2,3,4,5, name=\"mohit\", age= 23, country= \"India\") # always positional comes first in parameter"
   ]
  },
  {
   "cell_type": "code",
   "execution_count": 9,
   "metadata": {},
   "outputs": [
    {
     "data": {
      "text/plain": [
       "False"
      ]
     },
     "execution_count": 9,
     "metadata": {},
     "output_type": "execute_result"
    }
   ],
   "source": [
    "# Password strength checker\n",
    "\n",
    "def is_strong(password):\n",
    "    if len(password)<8:\n",
    "        return False\n",
    "    if not any(char.isdigit() for char in password):\n",
    "        return False\n",
    "    if not any(char.islower() for char in password):\n",
    "        return False\n",
    "    if not any(char.isupper() for char in password):\n",
    "        return False\n",
    "    else:\n",
    "        return True\n",
    "\n",
    "x = \"As@\"    \n",
    "is_strong(x)"
   ]
  },
  {
   "cell_type": "code",
   "execution_count": 11,
   "metadata": {},
   "outputs": [
    {
     "data": {
      "text/plain": [
       "True"
      ]
     },
     "execution_count": 11,
     "metadata": {},
     "output_type": "execute_result"
    }
   ],
   "source": [
    "# Check if String is Pallindrome\n",
    "\n",
    "def is_pallindrome(s):\n",
    "    s = s.lower().replace(\" \",\"\") # replacing empty spaces\n",
    "    return s == s[::-1] #reverse of a string\n",
    "\n",
    "is_pallindrome(\"hahahah\")"
   ]
  },
  {
   "cell_type": "code",
   "execution_count": 12,
   "metadata": {},
   "outputs": [
    {
     "name": "stdout",
     "output_type": "stream",
     "text": [
      "{'hey': 1, 'there': 1, 'i': 2, 'am': 2, 'mohit': 1, 'sarawgi,': 1, 'future': 1, 'billionier': 1, 'and': 1, 'also': 1, 'an': 1, 'artist.': 1, 'its': 1, 'really': 1, 'nice': 1, 'to': 1, 'meet': 1, 'you': 1, 'all..': 1}\n"
     ]
    }
   ],
   "source": [
    "# A function to read a file and count the frequency of each word\n",
    "\n",
    "def count_words_frequency(file_path):\n",
    "    word_count = {}\n",
    "    with open(file_path, 'r') as file:  # r = read only\n",
    "        for line in file:\n",
    "            words=line.split()\n",
    "            for word in words:\n",
    "                word = word.lower()\n",
    "                word_count[word]= word_count.get(word,0)+1\n",
    "\n",
    "    return word_count\n",
    "\n",
    "file_path = 'sample.txt' \n",
    "word_freq = count_words_frequency(file_path)\n",
    "print(word_freq)\n",
    "\n",
    "\n"
   ]
  },
  {
   "cell_type": "markdown",
   "metadata": {},
   "source": [
    "# Lambda Function\n",
    "\n",
    "- Small anonymous functions defined using the lamda keyword.\n",
    "- Can have any number of arguments but only one expression.\n",
    "- used for short operations or as arguments to higher-order functions.\n",
    "\n",
    "##  Syntax = lambda arguments:expression"
   ]
  },
  {
   "cell_type": "code",
   "execution_count": 14,
   "metadata": {},
   "outputs": [
    {
     "name": "stdout",
     "output_type": "stream",
     "text": [
      "7\n"
     ]
    }
   ],
   "source": [
    "# addition of 2 number\n",
    "\n",
    "addition = lambda a,b:a+b\n",
    "type(addition) # function\n",
    "\n",
    "print(addition(2,5))\n",
    " "
   ]
  },
  {
   "cell_type": "code",
   "execution_count": 16,
   "metadata": {},
   "outputs": [
    {
     "data": {
      "text/plain": [
       "True"
      ]
     },
     "execution_count": 16,
     "metadata": {},
     "output_type": "execute_result"
    }
   ],
   "source": [
    "# Find if a number is even\n",
    "\n",
    "even = lambda a:a%2==0\n",
    "even(12) # True"
   ]
  },
  {
   "cell_type": "markdown",
   "metadata": {},
   "source": [
    "# Map function\n",
    "\n",
    "- it applies a giving function to all items in an input list (or any iterables)\n",
    "- and returs a map object (an iterator).\n",
    "- This is useful for transforming data in a list comprehensively."
   ]
  },
  {
   "cell_type": "code",
   "execution_count": 20,
   "metadata": {},
   "outputs": [
    {
     "data": {
      "text/plain": [
       "[1, 4, 9, 16, 25, 36, 49, 64]"
      ]
     },
     "execution_count": 20,
     "metadata": {},
     "output_type": "execute_result"
    }
   ],
   "source": [
    "def square(x):\n",
    "    return x*x\n",
    "\n",
    "number = [1,2,3,4,5,6,7,8]\n",
    "         \n",
    "    #function - without bracket\n",
    "list(map(square, number))\n",
    "                # iterable"
   ]
  },
  {
   "cell_type": "code",
   "execution_count": 21,
   "metadata": {},
   "outputs": [
    {
     "data": {
      "text/plain": [
       "[1, 4, 9, 16, 25]"
      ]
     },
     "execution_count": 21,
     "metadata": {},
     "output_type": "execute_result"
    }
   ],
   "source": [
    " # Lambda with map\n",
    "\n",
    "square = lambda x:x*x\n",
    "num = [1,2,3,4,5]\n",
    "\n",
    "list(map(square, num))"
   ]
  },
  {
   "cell_type": "code",
   "execution_count": 22,
   "metadata": {},
   "outputs": [
    {
     "data": {
      "text/plain": [
       "[10, 10, 10, 10]"
      ]
     },
     "execution_count": 22,
     "metadata": {},
     "output_type": "execute_result"
    }
   ],
   "source": [
    "# Map multiple iterables\n",
    "\n",
    "num1 = [1,2,3,4]\n",
    "num2 = [9,8,7,6]\n",
    "\n",
    "list(map(lambda x,y:x+y, num1, num2))"
   ]
  },
  {
   "cell_type": "code",
   "execution_count": 27,
   "metadata": {},
   "outputs": [
    {
     "name": "stdout",
     "output_type": "stream",
     "text": [
      "[1, 2, 3, 4] <class 'int'>\n"
     ]
    }
   ],
   "source": [
    "# Map to convert a list of strings to integer\n",
    "\n",
    "str_num = ['1', '2','3','4']\n",
    "int_num = list(map(int , str_num))\n",
    "print(int_num, type(int_num[0]))"
   ]
  },
  {
   "cell_type": "code",
   "execution_count": 29,
   "metadata": {},
   "outputs": [
    {
     "data": {
      "text/plain": [
       "['HA', 'KA', 'LA']"
      ]
     },
     "execution_count": 29,
     "metadata": {},
     "output_type": "execute_result"
    }
   ],
   "source": [
    "# Map to convert lower to upper\n",
    "\n",
    "word = [\"ha\", \"ka\", \"la\"]\n",
    "list(map(str.upper, word))"
   ]
  },
  {
   "cell_type": "markdown",
   "metadata": {},
   "source": [
    "# Filter Function\n",
    "\n",
    "- it construct the iterator from elements of an iterable for which a function returns True.\n",
    "\n",
    "- It is used to filter out items from a list, based on condition"
   ]
  },
  {
   "cell_type": "code",
   "execution_count": 32,
   "metadata": {},
   "outputs": [
    {
     "name": "stdout",
     "output_type": "stream",
     "text": [
      "[None, True, None, True, None, True, None]\n",
      "[2, 4, 6]\n"
     ]
    }
   ],
   "source": [
    "def even(num):\n",
    "    if num%2==0:\n",
    "        return True\n",
    "    \n",
    "lst = [1,2,3,4,5,6,7]\n",
    "\n",
    "print(list(map(even, lst)))\n",
    "print(list(filter(even, lst)))"
   ]
  },
  {
   "cell_type": "code",
   "execution_count": 34,
   "metadata": {},
   "outputs": [
    {
     "name": "stdout",
     "output_type": "stream",
     "text": [
      "[8, 7, 6]\n"
     ]
    }
   ],
   "source": [
    "# Filter with lambda\n",
    "\n",
    "# def greater_then_2(x):\n",
    "#     if x>=5:\n",
    "#         return True\n",
    "\n",
    "nums = [1,8,7,4,6,3]\n",
    "\n",
    "print(list(filter(lambda x:x>=5, nums)))\n",
    "\n"
   ]
  },
  {
   "cell_type": "code",
   "execution_count": 36,
   "metadata": {},
   "outputs": [
    {
     "name": "stdout",
     "output_type": "stream",
     "text": [
      "[8, 6]\n"
     ]
    }
   ],
   "source": [
    "# Filter with lambda and multiple conditions\n",
    "\n",
    "print(list(filter(lambda x:x>=5 and x%2==0, nums)))"
   ]
  },
  {
   "cell_type": "code",
   "execution_count": 40,
   "metadata": {},
   "outputs": [
    {
     "name": "stdout",
     "output_type": "stream",
     "text": [
      "[{'name': 'mohit', 'age': 25, 'country': 'India'}, {'name': 'oohit', 'age': 29, 'country': 'India'}]\n"
     ]
    }
   ],
   "source": [
    "# Filter to check if age is greater than 25 in dictionary\n",
    "\n",
    "people = [\n",
    "    {\"name\":\"mohit\", \"age\":25, \"country\":\"India\"},\n",
    "    {\"name\":\"oohit\", \"age\":29, \"country\":\"India\"},\n",
    "    {\"name\":\"mohit\", \"age\":22, \"country\":\"India\"}\n",
    "]\n",
    "\n",
    "def age_(person):\n",
    "    return person[\"age\"]>=25\n",
    "    \n",
    "print(list(filter(age_, people)))"
   ]
  }
 ],
 "metadata": {
  "kernelspec": {
   "display_name": "virtual_env",
   "language": "python",
   "name": "python3"
  },
  "language_info": {
   "codemirror_mode": {
    "name": "ipython",
    "version": 3
   },
   "file_extension": ".py",
   "mimetype": "text/x-python",
   "name": "python",
   "nbconvert_exporter": "python",
   "pygments_lexer": "ipython3",
   "version": "3.10.12"
  }
 },
 "nbformat": 4,
 "nbformat_minor": 2
}
