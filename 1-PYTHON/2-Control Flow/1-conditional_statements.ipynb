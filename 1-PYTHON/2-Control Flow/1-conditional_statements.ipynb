{
 "cells": [
  {
   "cell_type": "code",
   "execution_count": 4,
   "metadata": {},
   "outputs": [
    {
     "name": "stdout",
     "output_type": "stream",
     "text": [
      "ruko abhi 2 saal\n"
     ]
    }
   ],
   "source": [
    "age = int(input())\n",
    "\n",
    "if age>=18:\n",
    "    print(\"you can vote\")\n",
    "\n",
    "elif age<18 and age>=16:\n",
    "    print(\"ruko abhi 2 saal\")\n",
    "\n",
    "else:\n",
    "    print(\"choti bachhe ho kya\")"
   ]
  },
  {
   "cell_type": "code",
   "execution_count": 6,
   "metadata": {},
   "outputs": [
    {
     "name": "stdout",
     "output_type": "stream",
     "text": [
      "11.0\n"
     ]
    }
   ],
   "source": [
    "# Calculator\n",
    "num1 = float(input(\"1st number\"))\n",
    "num2 = float(input(\"second number\"))\n",
    "operator = str(input(\"+,-,*,/\"))\n",
    "\n",
    "if operator==\"+\":\n",
    "    print(num1+num2)\n",
    "elif operator==\"-\":\n",
    "    print(num1-num2)\n",
    "elif operator == \"*\":\n",
    "    print(num1*num2)\n",
    "else: print(num1/num2)\n",
    "\n"
   ]
  }
 ],
 "metadata": {
  "kernelspec": {
   "display_name": "virtual_env",
   "language": "python",
   "name": "python3"
  },
  "language_info": {
   "codemirror_mode": {
    "name": "ipython",
    "version": 3
   },
   "file_extension": ".py",
   "mimetype": "text/x-python",
   "name": "python",
   "nbconvert_exporter": "python",
   "pygments_lexer": "ipython3",
   "version": "3.10.12"
  }
 },
 "nbformat": 4,
 "nbformat_minor": 2
}
